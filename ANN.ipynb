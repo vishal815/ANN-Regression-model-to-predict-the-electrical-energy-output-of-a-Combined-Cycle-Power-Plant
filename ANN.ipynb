{
  "nbformat": 4,
  "nbformat_minor": 0,
  "metadata": {
    "colab": {
      "name": "ANN.ipynb",
      "provenance": [],
      "toc_visible": true,
      "authorship_tag": "ABX9TyNm0SHPIdeDm+NVdeuTWhll",
      "include_colab_link": true
    },
    "kernelspec": {
      "name": "python3",
      "display_name": "Python 3"
    },
    "language_info": {
      "name": "python"
    }
  },
  "cells": [
    {
      "cell_type": "markdown",
      "metadata": {
        "id": "view-in-github",
        "colab_type": "text"
      },
      "source": [
        "<a href=\"https://colab.research.google.com/github/vishal815/ANN-Regression-model-to-predict-the-electrical-energy-output-of-a-Combined-Cycle-Power-Plant/blob/main/ANN.ipynb\" target=\"_parent\"><img src=\"https://colab.research.google.com/assets/colab-badge.svg\" alt=\"Open In Colab\"/></a>"
      ]
    },
    {
      "cell_type": "code",
      "metadata": {
        "id": "2g0h3LYKqYVX"
      },
      "source": [
        "#import the libraries.\n",
        "import numpy as np\n",
        "import pandas as pd\n",
        "import tensorflow as tf"
      ],
      "execution_count": 1,
      "outputs": []
    },
    {
      "cell_type": "markdown",
      "metadata": {
        "id": "aWSPSJRlr6PV"
      },
      "source": [
        "1. Import the dataset"
      ]
    },
    {
      "cell_type": "code",
      "metadata": {
        "id": "F80IwByZrazO"
      },
      "source": [
        "dataset=pd.read_excel('Folds5x2_pp.xlsx')\n",
        "X=dataset.iloc[:, :-1].values         #created metric of features.\n",
        "y=dataset.iloc[:,-1].values           #created dependent veriable vector."
      ],
      "execution_count": 2,
      "outputs": []
    },
    {
      "cell_type": "code",
      "metadata": {
        "colab": {
          "base_uri": "https://localhost:8080/"
        },
        "id": "XBkhcsY1vNUR",
        "outputId": "1c9a09ba-1296-4eda-a787-f49aec302a5b"
      },
      "source": [
        "print(X)\n",
        "print(y)"
      ],
      "execution_count": 3,
      "outputs": [
        {
          "output_type": "stream",
          "name": "stdout",
          "text": [
            "[[  14.96   41.76 1024.07   73.17]\n",
            " [  25.18   62.96 1020.04   59.08]\n",
            " [   5.11   39.4  1012.16   92.14]\n",
            " ...\n",
            " [  31.32   74.33 1012.92   36.48]\n",
            " [  24.48   69.45 1013.86   62.39]\n",
            " [  21.6    62.52 1017.23   67.87]]\n",
            "[463.26 444.37 488.56 ... 429.57 435.74 453.28]\n"
          ]
        }
      ]
    },
    {
      "cell_type": "markdown",
      "metadata": {
        "id": "gWMFy6mmzJAQ"
      },
      "source": [
        "Splitting the dataset into the Training set and Test set"
      ]
    },
    {
      "cell_type": "code",
      "metadata": {
        "id": "GqSaabKuzbiN"
      },
      "source": [
        "from sklearn.model_selection import train_test_split\n",
        "X_train, X_test, y_train, y_test = train_test_split(X,y, test_size=0.2, random_state=0)"
      ],
      "execution_count": 4,
      "outputs": []
    },
    {
      "cell_type": "markdown",
      "metadata": {
        "id": "K9OxkAzmykOg"
      },
      "source": [
        "2. Building the ANN"
      ]
    },
    {
      "cell_type": "code",
      "metadata": {
        "id": "X8hSFB_IyvAJ"
      },
      "source": [
        "# Initializing the AAN\n",
        "ann = tf.keras.models.Sequential()"
      ],
      "execution_count": 5,
      "outputs": []
    },
    {
      "cell_type": "code",
      "metadata": {
        "id": "qYkV-PC14j9s"
      },
      "source": [
        "# Adding the input layer and the hidden layer\n",
        "ann.add(tf.keras.layers.Dense(units=6, activation='relu'))"
      ],
      "execution_count": 6,
      "outputs": []
    },
    {
      "cell_type": "code",
      "metadata": {
        "id": "aLVOCWqE44BU"
      },
      "source": [
        "# Adding the second hidded layer.\n",
        "ann.add(tf.keras.layers.Dense(units=6, activation='relu'))"
      ],
      "execution_count": 7,
      "outputs": []
    },
    {
      "cell_type": "code",
      "metadata": {
        "id": "Qlkenh1g7s7y"
      },
      "source": [
        "# Adding the second hidden layer.\n",
        "ann.add(tf.keras.layers.Dense(units=1))"
      ],
      "execution_count": 8,
      "outputs": []
    },
    {
      "cell_type": "code",
      "metadata": {
        "id": "2-FsCS8R9VD_"
      },
      "source": [
        ""
      ],
      "execution_count": 8,
      "outputs": []
    },
    {
      "cell_type": "markdown",
      "metadata": {
        "id": "C1ISX0Bp-fnI"
      },
      "source": [
        "3. Training the ANN."
      ]
    },
    {
      "cell_type": "code",
      "metadata": {
        "id": "ZzEpsU6B-mAw"
      },
      "source": [
        "# Complillng the ANN\n",
        "ann.compile(optimizer= 'adam', loss='mean_squared_error')"
      ],
      "execution_count": 9,
      "outputs": []
    },
    {
      "cell_type": "code",
      "metadata": {
        "colab": {
          "base_uri": "https://localhost:8080/"
        },
        "id": "aR1rqa0oC_Dc",
        "outputId": "fc3ac557-185c-45de-b54d-aca0f43f8be7"
      },
      "source": [
        "# Training the ANN model on Training set.\n",
        "ann.fit(X_train, y_train, batch_size=32, epochs= 100 )"
      ],
      "execution_count": 10,
      "outputs": [
        {
          "output_type": "stream",
          "name": "stdout",
          "text": [
            "Epoch 1/100\n",
            "240/240 [==============================] - 1s 1ms/step - loss: 208824.1250\n",
            "Epoch 2/100\n",
            "240/240 [==============================] - 0s 1ms/step - loss: 206360.5938\n",
            "Epoch 3/100\n",
            "240/240 [==============================] - 0s 1ms/step - loss: 206142.5312\n",
            "Epoch 4/100\n",
            "240/240 [==============================] - 0s 1ms/step - loss: 205924.9375\n",
            "Epoch 5/100\n",
            "240/240 [==============================] - 0s 1ms/step - loss: 205707.5000\n",
            "Epoch 6/100\n",
            "240/240 [==============================] - 0s 1ms/step - loss: 205490.2031\n",
            "Epoch 7/100\n",
            "240/240 [==============================] - 0s 1ms/step - loss: 205273.0781\n",
            "Epoch 8/100\n",
            "240/240 [==============================] - 0s 1ms/step - loss: 205056.1875\n",
            "Epoch 9/100\n",
            "240/240 [==============================] - 0s 1ms/step - loss: 204839.2812\n",
            "Epoch 10/100\n",
            "240/240 [==============================] - 0s 1ms/step - loss: 204622.7188\n",
            "Epoch 11/100\n",
            "240/240 [==============================] - 0s 1ms/step - loss: 204406.1406\n",
            "Epoch 12/100\n",
            "240/240 [==============================] - 0s 1ms/step - loss: 204189.7812\n",
            "Epoch 13/100\n",
            "240/240 [==============================] - 0s 1ms/step - loss: 203973.5156\n",
            "Epoch 14/100\n",
            "240/240 [==============================] - 0s 1ms/step - loss: 203757.3906\n",
            "Epoch 15/100\n",
            "240/240 [==============================] - 0s 1ms/step - loss: 203541.2656\n",
            "Epoch 16/100\n",
            "240/240 [==============================] - 0s 1ms/step - loss: 203325.3281\n",
            "Epoch 17/100\n",
            "240/240 [==============================] - 0s 1ms/step - loss: 203109.6250\n",
            "Epoch 18/100\n",
            "240/240 [==============================] - 0s 1ms/step - loss: 202893.8594\n",
            "Epoch 19/100\n",
            "240/240 [==============================] - 0s 1ms/step - loss: 202678.4219\n",
            "Epoch 20/100\n",
            "240/240 [==============================] - 0s 1ms/step - loss: 202462.9219\n",
            "Epoch 21/100\n",
            "240/240 [==============================] - 0s 1ms/step - loss: 202247.6875\n",
            "Epoch 22/100\n",
            "240/240 [==============================] - 0s 1ms/step - loss: 202032.4844\n",
            "Epoch 23/100\n",
            "240/240 [==============================] - 0s 1ms/step - loss: 201817.4062\n",
            "Epoch 24/100\n",
            "240/240 [==============================] - 0s 1ms/step - loss: 201602.5312\n",
            "Epoch 25/100\n",
            "240/240 [==============================] - 0s 1ms/step - loss: 201387.6875\n",
            "Epoch 26/100\n",
            "240/240 [==============================] - 0s 1ms/step - loss: 201172.9688\n",
            "Epoch 27/100\n",
            "240/240 [==============================] - 0s 1ms/step - loss: 200958.3750\n",
            "Epoch 28/100\n",
            "240/240 [==============================] - 0s 1ms/step - loss: 200743.8281\n",
            "Epoch 29/100\n",
            "240/240 [==============================] - 0s 1ms/step - loss: 200529.3906\n",
            "Epoch 30/100\n",
            "240/240 [==============================] - 0s 1ms/step - loss: 200315.2031\n",
            "Epoch 31/100\n",
            "240/240 [==============================] - 0s 1ms/step - loss: 200101.0625\n",
            "Epoch 32/100\n",
            "240/240 [==============================] - 0s 1ms/step - loss: 199887.0469\n",
            "Epoch 33/100\n",
            "240/240 [==============================] - 0s 1ms/step - loss: 199673.0625\n",
            "Epoch 34/100\n",
            "240/240 [==============================] - 0s 1ms/step - loss: 199459.3125\n",
            "Epoch 35/100\n",
            "240/240 [==============================] - 0s 1ms/step - loss: 199245.5625\n",
            "Epoch 36/100\n",
            "240/240 [==============================] - 0s 1ms/step - loss: 199032.0469\n",
            "Epoch 37/100\n",
            "240/240 [==============================] - 0s 1ms/step - loss: 198818.5312\n",
            "Epoch 38/100\n",
            "240/240 [==============================] - 0s 1ms/step - loss: 198605.2188\n",
            "Epoch 39/100\n",
            "240/240 [==============================] - 0s 1ms/step - loss: 198392.0469\n",
            "Epoch 40/100\n",
            "240/240 [==============================] - 0s 1ms/step - loss: 198178.9844\n",
            "Epoch 41/100\n",
            "240/240 [==============================] - 0s 1ms/step - loss: 197965.8750\n",
            "Epoch 42/100\n",
            "240/240 [==============================] - 0s 1ms/step - loss: 197752.9688\n",
            "Epoch 43/100\n",
            "240/240 [==============================] - 0s 1ms/step - loss: 197540.3750\n",
            "Epoch 44/100\n",
            "240/240 [==============================] - 0s 1ms/step - loss: 197327.6875\n",
            "Epoch 45/100\n",
            "240/240 [==============================] - 0s 1ms/step - loss: 197115.1562\n",
            "Epoch 46/100\n",
            "240/240 [==============================] - 0s 1ms/step - loss: 196902.6875\n",
            "Epoch 47/100\n",
            "240/240 [==============================] - 0s 1ms/step - loss: 196690.2812\n",
            "Epoch 48/100\n",
            "240/240 [==============================] - 0s 1ms/step - loss: 196478.2656\n",
            "Epoch 49/100\n",
            "240/240 [==============================] - 0s 2ms/step - loss: 196266.0938\n",
            "Epoch 50/100\n",
            "240/240 [==============================] - 0s 1ms/step - loss: 196054.1875\n",
            "Epoch 51/100\n",
            "240/240 [==============================] - 0s 1ms/step - loss: 195842.2500\n",
            "Epoch 52/100\n",
            "240/240 [==============================] - 0s 1ms/step - loss: 195630.5781\n",
            "Epoch 53/100\n",
            "240/240 [==============================] - 0s 1ms/step - loss: 195419.0469\n",
            "Epoch 54/100\n",
            "240/240 [==============================] - 0s 1ms/step - loss: 195207.5625\n",
            "Epoch 55/100\n",
            "240/240 [==============================] - 0s 2ms/step - loss: 194996.1250\n",
            "Epoch 56/100\n",
            "240/240 [==============================] - 0s 1ms/step - loss: 194784.9688\n",
            "Epoch 57/100\n",
            "240/240 [==============================] - 0s 1ms/step - loss: 194573.7500\n",
            "Epoch 58/100\n",
            "240/240 [==============================] - 0s 1ms/step - loss: 194362.7656\n",
            "Epoch 59/100\n",
            "240/240 [==============================] - 0s 1ms/step - loss: 194151.7344\n",
            "Epoch 60/100\n",
            "240/240 [==============================] - 0s 1ms/step - loss: 193940.9062\n",
            "Epoch 61/100\n",
            "240/240 [==============================] - 0s 2ms/step - loss: 193730.2344\n",
            "Epoch 62/100\n",
            "240/240 [==============================] - 0s 1ms/step - loss: 193519.6875\n",
            "Epoch 63/100\n",
            "240/240 [==============================] - 0s 1ms/step - loss: 193309.2656\n",
            "Epoch 64/100\n",
            "240/240 [==============================] - 0s 1ms/step - loss: 193098.9062\n",
            "Epoch 65/100\n",
            "240/240 [==============================] - 0s 1ms/step - loss: 192888.6719\n",
            "Epoch 66/100\n",
            "240/240 [==============================] - 0s 1ms/step - loss: 192678.5469\n",
            "Epoch 67/100\n",
            "240/240 [==============================] - 0s 1ms/step - loss: 192468.4688\n",
            "Epoch 68/100\n",
            "240/240 [==============================] - 0s 1ms/step - loss: 192258.6562\n",
            "Epoch 69/100\n",
            "240/240 [==============================] - 0s 1ms/step - loss: 192048.9219\n",
            "Epoch 70/100\n",
            "240/240 [==============================] - 0s 1ms/step - loss: 191839.2031\n",
            "Epoch 71/100\n",
            "240/240 [==============================] - 0s 1ms/step - loss: 191629.6094\n",
            "Epoch 72/100\n",
            "240/240 [==============================] - 0s 1ms/step - loss: 191420.2500\n",
            "Epoch 73/100\n",
            "240/240 [==============================] - 0s 1ms/step - loss: 191210.9219\n",
            "Epoch 74/100\n",
            "240/240 [==============================] - 0s 1ms/step - loss: 191001.7344\n",
            "Epoch 75/100\n",
            "240/240 [==============================] - 0s 1ms/step - loss: 190792.6562\n",
            "Epoch 76/100\n",
            "240/240 [==============================] - 0s 1ms/step - loss: 190583.6250\n",
            "Epoch 77/100\n",
            "240/240 [==============================] - 0s 1ms/step - loss: 190374.7656\n",
            "Epoch 78/100\n",
            "240/240 [==============================] - 0s 1ms/step - loss: 190166.0625\n",
            "Epoch 79/100\n",
            "240/240 [==============================] - 0s 1ms/step - loss: 189957.3906\n",
            "Epoch 80/100\n",
            "240/240 [==============================] - 0s 1ms/step - loss: 189748.9219\n",
            "Epoch 81/100\n",
            "240/240 [==============================] - 0s 1ms/step - loss: 189540.5781\n",
            "Epoch 82/100\n",
            "240/240 [==============================] - 0s 1ms/step - loss: 189332.2031\n",
            "Epoch 83/100\n",
            "240/240 [==============================] - 0s 1ms/step - loss: 189124.0938\n",
            "Epoch 84/100\n",
            "240/240 [==============================] - 0s 1ms/step - loss: 188916.0312\n",
            "Epoch 85/100\n",
            "240/240 [==============================] - 0s 1ms/step - loss: 188708.1562\n",
            "Epoch 86/100\n",
            "240/240 [==============================] - 0s 1ms/step - loss: 188500.2812\n",
            "Epoch 87/100\n",
            "240/240 [==============================] - 0s 1ms/step - loss: 188292.6094\n",
            "Epoch 88/100\n",
            "240/240 [==============================] - 0s 1ms/step - loss: 188084.9219\n",
            "Epoch 89/100\n",
            "240/240 [==============================] - 0s 1ms/step - loss: 187877.5625\n",
            "Epoch 90/100\n",
            "240/240 [==============================] - 0s 1ms/step - loss: 187670.1406\n",
            "Epoch 91/100\n",
            "240/240 [==============================] - 0s 1ms/step - loss: 187462.9688\n",
            "Epoch 92/100\n",
            "240/240 [==============================] - 0s 1ms/step - loss: 187255.7812\n",
            "Epoch 93/100\n",
            "240/240 [==============================] - 0s 1ms/step - loss: 187048.8125\n",
            "Epoch 94/100\n",
            "240/240 [==============================] - 0s 1ms/step - loss: 186841.7969\n",
            "Epoch 95/100\n",
            "240/240 [==============================] - 0s 1ms/step - loss: 186635.0938\n",
            "Epoch 96/100\n",
            "240/240 [==============================] - 0s 1ms/step - loss: 186428.3281\n",
            "Epoch 97/100\n",
            "240/240 [==============================] - 0s 1ms/step - loss: 186221.8281\n",
            "Epoch 98/100\n",
            "240/240 [==============================] - 0s 1ms/step - loss: 186015.3906\n",
            "Epoch 99/100\n",
            "240/240 [==============================] - 0s 1ms/step - loss: 185809.1406\n",
            "Epoch 100/100\n",
            "240/240 [==============================] - 0s 1ms/step - loss: 185602.8281\n"
          ]
        },
        {
          "output_type": "execute_result",
          "data": {
            "text/plain": [
              "<keras.callbacks.History at 0x7f3542da22d0>"
            ]
          },
          "metadata": {},
          "execution_count": 10
        }
      ]
    },
    {
      "cell_type": "markdown",
      "metadata": {
        "id": "fuSHQUwgF6nV"
      },
      "source": [
        "Predicting the results of the Test set"
      ]
    },
    {
      "cell_type": "code",
      "metadata": {
        "colab": {
          "base_uri": "https://localhost:8080/"
        },
        "id": "r6RNKZRSGH7Z",
        "outputId": "7a6ec63f-ebc0-437e-e297-cbbad5c9f59d"
      },
      "source": [
        "y_pred = ann.predict(X_test)\n",
        "np.set_printoptions(precision=2)\n",
        "print(np.concatenate((y_pred.reshape(len(y_pred),1), y_test.reshape(len(y_test),1)), 1))"
      ],
      "execution_count": 11,
      "outputs": [
        {
          "output_type": "stream",
          "name": "stdout",
          "text": [
            "[[ 23.95 431.23]\n",
            " [ 23.95 460.01]\n",
            " [ 23.95 461.14]\n",
            " ...\n",
            " [ 23.95 473.26]\n",
            " [ 23.95 438.  ]\n",
            " [ 23.95 463.28]]\n"
          ]
        }
      ]
    },
    {
      "cell_type": "code",
      "metadata": {
        "id": "7QJzXSLbGrMw"
      },
      "source": [
        ""
      ],
      "execution_count": 11,
      "outputs": []
    }
  ]
}